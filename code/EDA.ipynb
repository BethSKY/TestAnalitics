{
 "cells": [
  {
   "cell_type": "code",
   "execution_count": 1,
   "metadata": {},
   "outputs": [
    {
     "name": "stdout",
     "output_type": "stream",
     "text": [
      "/Users/elizavetachefanova/Documents/TestAnalitics\n"
     ]
    }
   ],
   "source": [
    "# импорт всех необходимых библиотек\n",
    "import os\n",
    "import warnings\n",
    "warnings.filterwarnings('ignore', category=DeprecationWarning)\n",
    "import pandas as pd\n",
    "\n",
    "parent_directory = os.path.dirname(os.getcwd())  # Получаем родительский каталог\n",
    "os.chdir(parent_directory)  # Переходим в родительский каталог\n",
    "print(os.getcwd())  # Проверяем, что мы находимся в родительском каталоге"
   ]
  },
  {
   "cell_type": "code",
   "execution_count": 12,
   "metadata": {},
   "outputs": [
    {
     "name": "stdout",
     "output_type": "stream",
     "text": [
      "<class 'pandas.core.frame.DataFrame'>\n",
      "RangeIndex: 100000 entries, 0 to 99999\n",
      "Data columns (total 13 columns):\n",
      " #   Column                       Non-Null Count   Dtype \n",
      "---  ------                       --------------   ----- \n",
      " 0   Applicant_ID                 100000 non-null  int64 \n",
      " 1   Annual_Income                100000 non-null  int64 \n",
      " 2   Applicant_Age                100000 non-null  int64 \n",
      " 3   Work_Experience              100000 non-null  int64 \n",
      " 4   Marital_Status               100000 non-null  object\n",
      " 5   House_Ownership              100000 non-null  object\n",
      " 6   Vehicle_Ownership(car)       100000 non-null  object\n",
      " 7   Occupation                   100000 non-null  object\n",
      " 8   Residence_City               100000 non-null  object\n",
      " 9   Residence_State              100000 non-null  object\n",
      " 10  Years_in_Current_Employment  100000 non-null  int64 \n",
      " 11  Years_in_Current_Residence   100000 non-null  int64 \n",
      " 12  Loan_Default_Risk            100000 non-null  int64 \n",
      "dtypes: int64(7), object(6)\n",
      "memory usage: 9.9+ MB\n"
     ]
    }
   ],
   "source": [
    "df = pd.read_csv(f'{parent_directory}/data/Applicant-details.csv', sep=',')\n",
    "df.info()"
   ]
  },
  {
   "cell_type": "code",
   "execution_count": 14,
   "metadata": {},
   "outputs": [
    {
     "name": "stdout",
     "output_type": "stream",
     "text": [
      "Количество наблюдений: 100000\n"
     ]
    },
    {
     "data": {
      "text/html": [
       "<div>\n",
       "<style scoped>\n",
       "    .dataframe tbody tr th:only-of-type {\n",
       "        vertical-align: middle;\n",
       "    }\n",
       "\n",
       "    .dataframe tbody tr th {\n",
       "        vertical-align: top;\n",
       "    }\n",
       "\n",
       "    .dataframe thead th {\n",
       "        text-align: right;\n",
       "    }\n",
       "</style>\n",
       "<table border=\"1\" class=\"dataframe\">\n",
       "  <thead>\n",
       "    <tr style=\"text-align: right;\">\n",
       "      <th></th>\n",
       "      <th>Applicant_ID</th>\n",
       "      <th>Annual_Income</th>\n",
       "      <th>Applicant_Age</th>\n",
       "      <th>Work_Experience</th>\n",
       "      <th>Marital_Status</th>\n",
       "      <th>House_Ownership</th>\n",
       "      <th>Vehicle_Ownership(car)</th>\n",
       "      <th>Occupation</th>\n",
       "      <th>Residence_City</th>\n",
       "      <th>Residence_State</th>\n",
       "      <th>Years_in_Current_Employment</th>\n",
       "      <th>Years_in_Current_Residence</th>\n",
       "      <th>Loan_Default_Risk</th>\n",
       "    </tr>\n",
       "  </thead>\n",
       "  <tbody>\n",
       "    <tr>\n",
       "      <th>0</th>\n",
       "      <td>75722</td>\n",
       "      <td>9657655</td>\n",
       "      <td>76</td>\n",
       "      <td>0</td>\n",
       "      <td>single</td>\n",
       "      <td>rented</td>\n",
       "      <td>no</td>\n",
       "      <td>Psychologist</td>\n",
       "      <td>Jalandhar</td>\n",
       "      <td>Punjab</td>\n",
       "      <td>0</td>\n",
       "      <td>12</td>\n",
       "      <td>0</td>\n",
       "    </tr>\n",
       "    <tr>\n",
       "      <th>1</th>\n",
       "      <td>80185</td>\n",
       "      <td>9259353</td>\n",
       "      <td>37</td>\n",
       "      <td>18</td>\n",
       "      <td>single</td>\n",
       "      <td>rented</td>\n",
       "      <td>no</td>\n",
       "      <td>Petroleum_Engineer</td>\n",
       "      <td>Bally</td>\n",
       "      <td>West_Bengal</td>\n",
       "      <td>12</td>\n",
       "      <td>11</td>\n",
       "      <td>0</td>\n",
       "    </tr>\n",
       "    <tr>\n",
       "      <th>2</th>\n",
       "      <td>19865</td>\n",
       "      <td>1509721</td>\n",
       "      <td>66</td>\n",
       "      <td>8</td>\n",
       "      <td>single</td>\n",
       "      <td>rented</td>\n",
       "      <td>no</td>\n",
       "      <td>Drafter</td>\n",
       "      <td>Indore</td>\n",
       "      <td>Madhya_Pradesh</td>\n",
       "      <td>4</td>\n",
       "      <td>12</td>\n",
       "      <td>0</td>\n",
       "    </tr>\n",
       "    <tr>\n",
       "      <th>3</th>\n",
       "      <td>76700</td>\n",
       "      <td>5867312</td>\n",
       "      <td>43</td>\n",
       "      <td>1</td>\n",
       "      <td>single</td>\n",
       "      <td>owned</td>\n",
       "      <td>no</td>\n",
       "      <td>Chartered_Accountant</td>\n",
       "      <td>Kurnool[18]</td>\n",
       "      <td>Andhra_Pradesh</td>\n",
       "      <td>1</td>\n",
       "      <td>13</td>\n",
       "      <td>1</td>\n",
       "    </tr>\n",
       "    <tr>\n",
       "      <th>4</th>\n",
       "      <td>92992</td>\n",
       "      <td>7223191</td>\n",
       "      <td>44</td>\n",
       "      <td>9</td>\n",
       "      <td>single</td>\n",
       "      <td>rented</td>\n",
       "      <td>no</td>\n",
       "      <td>Air_traffic_controller</td>\n",
       "      <td>Asansol</td>\n",
       "      <td>West_Bengal</td>\n",
       "      <td>9</td>\n",
       "      <td>13</td>\n",
       "      <td>0</td>\n",
       "    </tr>\n",
       "  </tbody>\n",
       "</table>\n",
       "</div>"
      ],
      "text/plain": [
       "   Applicant_ID  Annual_Income  Applicant_Age  Work_Experience Marital_Status  \\\n",
       "0         75722        9657655             76                0         single   \n",
       "1         80185        9259353             37               18         single   \n",
       "2         19865        1509721             66                8         single   \n",
       "3         76700        5867312             43                1         single   \n",
       "4         92992        7223191             44                9         single   \n",
       "\n",
       "  House_Ownership Vehicle_Ownership(car)              Occupation  \\\n",
       "0          rented                     no            Psychologist   \n",
       "1          rented                     no      Petroleum_Engineer   \n",
       "2          rented                     no                 Drafter   \n",
       "3           owned                     no    Chartered_Accountant   \n",
       "4          rented                     no  Air_traffic_controller   \n",
       "\n",
       "  Residence_City Residence_State  Years_in_Current_Employment  \\\n",
       "0      Jalandhar          Punjab                            0   \n",
       "1          Bally     West_Bengal                           12   \n",
       "2         Indore  Madhya_Pradesh                            4   \n",
       "3    Kurnool[18]  Andhra_Pradesh                            1   \n",
       "4        Asansol     West_Bengal                            9   \n",
       "\n",
       "   Years_in_Current_Residence  Loan_Default_Risk  \n",
       "0                          12                  0  \n",
       "1                          11                  0  \n",
       "2                          12                  0  \n",
       "3                          13                  1  \n",
       "4                          13                  0  "
      ]
     },
     "execution_count": 14,
     "metadata": {},
     "output_type": "execute_result"
    }
   ],
   "source": [
    "df.head()"
   ]
  },
  {
   "cell_type": "code",
   "execution_count": null,
   "metadata": {},
   "outputs": [],
   "source": []
  }
 ],
 "metadata": {
  "kernelspec": {
   "display_name": "Python 3",
   "language": "python",
   "name": "python3"
  },
  "language_info": {
   "codemirror_mode": {
    "name": "ipython",
    "version": 3
   },
   "file_extension": ".py",
   "mimetype": "text/x-python",
   "name": "python",
   "nbconvert_exporter": "python",
   "pygments_lexer": "ipython3",
   "version": "3.9.6"
  }
 },
 "nbformat": 4,
 "nbformat_minor": 2
}
