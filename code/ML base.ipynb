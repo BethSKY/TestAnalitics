{
 "cells": [
  {
   "cell_type": "code",
   "execution_count": 31,
   "metadata": {},
   "outputs": [
    {
     "name": "stdout",
     "output_type": "stream",
     "text": [
      "/Users/elizavetachefanova\n"
     ]
    }
   ],
   "source": [
    "# импорт всех необходимых библиотек\n",
    "import os\n",
    "import warnings\n",
    "warnings.filterwarnings('ignore', category=DeprecationWarning)\n",
    "from sklearn.linear_model import LogisticRegression\n",
    "from sklearn.model_selection import train_test_split\n",
    "from sklearn.metrics import accuracy_score\n",
    "from sklearn.exceptions import ConvergenceWarning\n",
    "\n",
    "# Игнорировать предупреждения о сходимости\n",
    "warnings.filterwarnings(\"ignore\", category=ConvergenceWarning)\n",
    "import pandas as pd\n",
    "\n",
    "parent_directory = os.path.dirname(os.getcwd())  # Получаем родительский каталог\n",
    "os.chdir(parent_directory)  # Переходим в родительский каталог\n",
    "print(os.getcwd())  # Проверяем, что мы находимся в родительском каталоге"
   ]
  },
  {
   "cell_type": "code",
   "execution_count": 2,
   "metadata": {},
   "outputs": [
    {
     "name": "stdout",
     "output_type": "stream",
     "text": [
      "<class 'pandas.core.frame.DataFrame'>\n",
      "RangeIndex: 100000 entries, 0 to 99999\n",
      "Data columns (total 13 columns):\n",
      " #   Column                       Non-Null Count   Dtype \n",
      "---  ------                       --------------   ----- \n",
      " 0   Applicant_ID                 100000 non-null  int64 \n",
      " 1   Annual_Income                100000 non-null  int64 \n",
      " 2   Applicant_Age                100000 non-null  int64 \n",
      " 3   Work_Experience              100000 non-null  int64 \n",
      " 4   Marital_Status               100000 non-null  object\n",
      " 5   House_Ownership              100000 non-null  object\n",
      " 6   Vehicle_Ownership(car)       100000 non-null  object\n",
      " 7   Occupation                   100000 non-null  object\n",
      " 8   Residence_City               100000 non-null  object\n",
      " 9   Residence_State              100000 non-null  object\n",
      " 10  Years_in_Current_Employment  100000 non-null  int64 \n",
      " 11  Years_in_Current_Residence   100000 non-null  int64 \n",
      " 12  Loan_Default_Risk            100000 non-null  int64 \n",
      "dtypes: int64(7), object(6)\n",
      "memory usage: 9.9+ MB\n"
     ]
    }
   ],
   "source": [
    "df = pd.read_csv(f'{parent_directory}/data/Applicant-details.csv', sep=',')\n",
    "df.info()"
   ]
  },
  {
   "cell_type": "code",
   "execution_count": 47,
   "metadata": {},
   "outputs": [],
   "source": [
    "# Список категориальных столбцов, которые нужно закодировать\n",
    "categorical_columns = ['Residence_State', 'Residence_City', 'Occupation', 'Vehicle_Ownership(car)', 'House_Ownership', 'Marital_Status']  # и так далее\n",
    "\n",
    "# Применяем One-Hot Encoding ко всем указанным столбцам\n",
    "df_encoded = pd.get_dummies(df, columns=categorical_columns)\n",
    "\n",
    "# Теперь df_encoded содержит новые столбцы для каждой категории в указанных столбцах,\n",
    "# а исходные категориальные столбцы удалены.\n",
    "\n",
    "X = df_encoded.drop(['Applicant_ID', 'Loan_Default_Risk'], axis=1) # Убираем столбец с целевой переменной из данных\n",
    "y = df_encoded['Loan_Default_Risk'] # Целевая переменная\n",
    "\n",
    "# # Разбиение данных на обучающую и тестовую выборки с сохранением пропорций классов\n",
    "X_train, X_test, y_train, y_test = train_test_split(X, y, test_size=0.2, random_state=42, stratify=y)"
   ]
  },
  {
   "cell_type": "code",
   "execution_count": 20,
   "metadata": {},
   "outputs": [],
   "source": []
  },
  {
   "cell_type": "code",
   "execution_count": 48,
   "metadata": {},
   "outputs": [
    {
     "name": "stdout",
     "output_type": "stream",
     "text": [
      "Точность модели: 0.87005\n",
      "ROC AUC: 0.5207780069690793\n",
      "Точность (Precision): 0.0\n",
      "Полнота (Recall): 0.0\n",
      "F1 score: 0.0\n",
      "Время обучения: 12.223979949951172 секунд\n",
      "Время предсказания: 0.31037163734436035 секунд\n",
      "Объем памяти: 15034 байт\n"
     ]
    },
    {
     "name": "stderr",
     "output_type": "stream",
     "text": [
      "/Library/Frameworks/Python.framework/Versions/3.11/lib/python3.11/site-packages/sklearn/metrics/_classification.py:1509: UndefinedMetricWarning: Precision is ill-defined and being set to 0.0 due to no predicted samples. Use `zero_division` parameter to control this behavior.\n",
      "  _warn_prf(average, modifier, f\"{metric.capitalize()} is\", len(result))\n"
     ]
    }
   ],
   "source": [
    "from sklearn.metrics import accuracy_score, roc_auc_score, precision_score, recall_score, f1_score\n",
    "import time\n",
    "import sys\n",
    "import pickle\n",
    "\n",
    "# Засекаем время начала обучения\n",
    "start_time = time.time()\n",
    "\n",
    "# Создание модели логистической регрессии\n",
    "model = LogisticRegression(max_iter=1000)  # Увеличиваем количество итераций\n",
    "\n",
    "# Обучение модели на обучающей выборке\n",
    "model.fit(X_train, y_train)\n",
    "\n",
    "# Время, затраченное на обучение\n",
    "training_time = time.time() - start_time\n",
    "\n",
    "# Засекаем время начала предсказания\n",
    "start_time = time.time()\n",
    "\n",
    "# Предсказание на тестовой выборке\n",
    "predictions = model.predict(X_test)\n",
    "predictions_proba = model.predict_proba(X_test)[:, 1]\n",
    "\n",
    "# Время, затраченное на предсказание\n",
    "prediction_time = time.time() - start_time\n",
    "\n",
    "# Оценка производительности модели\n",
    "accuracy = accuracy_score(y_test, predictions)\n",
    "roc_auc = roc_auc_score(y_test, predictions_proba)\n",
    "precision = precision_score(y_test, predictions)\n",
    "recall = recall_score(y_test, predictions)\n",
    "f1 = f1_score(y_test, predictions)\n",
    "\n",
    "# Оценка объема памяти, занимаемой моделью\n",
    "model_pickle = pickle.dumps(model)\n",
    "model_size = sys.getsizeof(model_pickle)\n",
    "\n",
    "print(f\"Точность модели: {accuracy}\")\n",
    "print(f\"ROC AUC: {roc_auc}\")\n",
    "print(f\"Точность (Precision): {precision}\")\n",
    "print(f\"Полнота (Recall): {recall}\")\n",
    "print(f\"F1 score: {f1}\")\n",
    "print(f\"Время обучения: {training_time} секунд\")\n",
    "print(f\"Время предсказания: {prediction_time} секунд\")\n",
    "print(f\"Объем памяти: {model_size} байт\")\n"
   ]
  },
  {
   "cell_type": "code",
   "execution_count": 42,
   "metadata": {},
   "outputs": [
    {
     "data": {
      "text/plain": [
       "0"
      ]
     },
     "execution_count": 42,
     "metadata": {},
     "output_type": "execute_result"
    }
   ],
   "source": [
    "predictions.sum()"
   ]
  },
  {
   "cell_type": "code",
   "execution_count": 39,
   "metadata": {},
   "outputs": [
    {
     "name": "stderr",
     "output_type": "stream",
     "text": [
      "/Library/Frameworks/Python.framework/Versions/3.11/lib/python3.11/site-packages/sklearn/base.py:493: UserWarning: X does not have valid feature names, but LogisticRegression was fitted with feature names\n",
      "  warnings.warn(\n"
     ]
    },
    {
     "data": {
      "text/plain": [
       "array([0])"
      ]
     },
     "execution_count": 39,
     "metadata": {},
     "output_type": "execute_result"
    }
   ],
   "source": [
    "model.predict([X_test.iloc[0]])"
   ]
  },
  {
   "cell_type": "code",
   "execution_count": null,
   "metadata": {},
   "outputs": [],
   "source": []
  }
 ],
 "metadata": {
  "kernelspec": {
   "display_name": "Python 3",
   "language": "python",
   "name": "python3"
  },
  "language_info": {
   "codemirror_mode": {
    "name": "ipython",
    "version": 3
   },
   "file_extension": ".py",
   "mimetype": "text/x-python",
   "name": "python",
   "nbconvert_exporter": "python",
   "pygments_lexer": "ipython3",
   "version": "3.11.0b3"
  }
 },
 "nbformat": 4,
 "nbformat_minor": 2
}
